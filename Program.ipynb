{
 "cells": [
  {
   "cell_type": "code",
   "execution_count": 6,
   "id": "bc0560a6-5fca-4e14-b151-a794ecd3cfba",
   "metadata": {},
   "outputs": [
    {
     "name": "stdin",
     "output_type": "stream",
     "text": [
      "Enter your name:  Elese\n",
      "Enter a number or string:  10\n"
     ]
    },
    {
     "name": "stdout",
     "output_type": "stream",
     "text": [
      "Hello Elese! Your number times 10 is 100.\n"
     ]
    }
   ],
   "source": [
    "# inputs for name and number/string\n",
    "name = input(\"Enter your name: \")\n",
    "otherInput = input(\"Enter a number or string: \")\n",
    "\n",
    "# check if the other input is a string or integer\n",
    "if otherInput.isdigit():\n",
    "    # if number, take number * 10\n",
    "    timesTen = int(otherInput)*10\n",
    "    print(f\"Hello {name}! Your number times 10 is {timesTen}.\")\n",
    "\n",
    "else:\n",
    "    # if string, reverse it\n",
    "    reverseString = otherInput[::-1]\n",
    "    print(f\"Hello {name}! Your string reversed is '{reverseString}'.\")"
   ]
  },
  {
   "cell_type": "code",
   "execution_count": null,
   "id": "a661653d-0112-44c3-ad43-e6affe761bcd",
   "metadata": {},
   "outputs": [],
   "source": []
  }
 ],
 "metadata": {
  "kernelspec": {
   "display_name": "Python 3 (ipykernel)",
   "language": "python",
   "name": "python3"
  },
  "language_info": {
   "codemirror_mode": {
    "name": "ipython",
    "version": 3
   },
   "file_extension": ".py",
   "mimetype": "text/x-python",
   "name": "python",
   "nbconvert_exporter": "python",
   "pygments_lexer": "ipython3",
   "version": "3.11.5"
  }
 },
 "nbformat": 4,
 "nbformat_minor": 5
}
